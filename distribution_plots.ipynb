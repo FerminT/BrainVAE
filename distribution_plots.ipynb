{
 "cells": [
  {
   "cell_type": "code",
   "execution_count": null,
   "metadata": {
    "ExecuteTime": {
     "end_time": "2024-08-29T16:59:27.175789Z",
     "start_time": "2024-08-29T16:59:27.115413Z"
    }
   },
   "outputs": [],
   "source": [
    "from pandas import read_csv, concat\n",
    "from pathlib import Path\n",
    "import seaborn as sns\n",
    "from matplotlib import pyplot as plt\n",
    "\n",
    "general_path = Path('datasets', 'general')\n",
    "diseased_path = Path('datasets', 'diseased')\n",
    "general_datasets = ['cam-can', 'nkirs', 'sald', 'hcp', 'hcp-aging', 'ukbb']\n",
    "diseased_datasets = ['oasis', 'aibl', 'adni']\n",
    "splits = ['train', 'val']\n",
    "\n",
    "# Read the datasets and combine them\n",
    "def combine_datasets(datasets, splits, dataset_path):\n",
    "    dataframes = []\n",
    "    for dataset in datasets:\n",
    "        for split in splits:\n",
    "            file_path = dataset_path / dataset / 'splits' / f'{split}.csv'\n",
    "            if file_path.exists():\n",
    "                df = read_csv(file_path)\n",
    "                if not df.empty:\n",
    "                    df['split'] = split\n",
    "                    dataframes.append(df)\n",
    "\n",
    "    return concat(dataframes)\n",
    "\n",
    "general_df = combine_datasets(general_datasets, splits, general_path)\n",
    "diseased_df = combine_datasets(diseased_datasets, splits, diseased_path)\n",
    "diseased_df = diseased_df[diseased_df['dx'] != 'Dementia Unspecified']\n",
    "diseased_df = diseased_df.rename(columns={'dx': 'diagnosis'})"
   ]
  },
  {
   "cell_type": "code",
   "execution_count": null,
   "metadata": {},
   "outputs": [],
   "source": [
    "pretrained_exp_path = Path('pretrain_exp', 'datasets')\n",
    "pretrained_csvs = list(pretrained_exp_path.glob('*.csv'))\n",
    "pretrained_dfs = []\n",
    "for csv in pretrained_csvs:\n",
    "    df = read_csv(csv)\n",
    "    if not df.empty:\n",
    "        pretrained_dfs.append(df)\n",
    "pretrained_df = concat(pretrained_dfs)\n",
    "pretrained_df = pretrained_df.rename(columns={'dx': 'diagnosis'})\n",
    "pretrained_df = pretrained_df.drop_duplicates(subset=['image_id'])\n",
    "print('Size of pretrained_df:', pretrained_df.shape[0])\n",
    "print('Size of diseased_df:', diseased_df.shape[0])"
   ]
  },
  {
   "cell_type": "code",
   "execution_count": null,
   "metadata": {},
   "outputs": [],
   "source": [
    "# check if there are images in pretrained_df but not in diseased_df and vice versa\n",
    "pretrained_subject_ids = set(pretrained_df['subject_id'])\n",
    "diseased_subject_ids = set(diseased_df['subject_id'])\n",
    "print('Pretrained subject IDs not in diseased:', len(pretrained_subject_ids - diseased_subject_ids))\n",
    "print('Diseased subject IDs not in pretrained:', len(diseased_subject_ids - pretrained_subject_ids))\n",
    "\n",
    "pretrained_images = set(pretrained_df['image_id'])\n",
    "diseased_images = set(diseased_df['image_id'])\n",
    "print('Pretrained images not in diseased:', len(pretrained_images - diseased_images))\n",
    "print('Diseased images not in pretrained:', len(diseased_images - pretrained_images))"
   ]
  },
  {
   "cell_type": "code",
   "execution_count": null,
   "metadata": {},
   "outputs": [],
   "source": [
    "# check age distribution of the extra subjects in diseased_df\n",
    "in_diseased_but_not_in_pretrained = diseased_df[~diseased_df['subject_id'].isin(pretrained_df['subject_id'])]\n",
    "print('Number of images in diseased_df not in pretrained_df:', in_diseased_but_not_in_pretrained.shape[0])\n",
    "# plot its age distribution\n",
    "plt.figure(figsize=(10, 5))\n",
    "sns.histplot(data=in_diseased_but_not_in_pretrained, x='age_at_scan', bins=50)\n",
    "plt.title('Age Distribution of Extra Subjects in Diseased Dataset')\n",
    "plt.xlabel('Age')\n",
    "plt.ylabel('Count')\n",
    "plt.show()\n",
    "# plot their diagnosis (column 'dx')\n",
    "plt.figure(figsize=(5, 5))\n",
    "sns.countplot(data=in_diseased_but_not_in_pretrained, x='diagnosis')\n",
    "plt.title('Diagnosis Distribution of Extra Subjects in Diseased Dataset')\n",
    "plt.xlabel('Diagnosis')\n",
    "plt.ylabel('Count')\n",
    "plt.xticks(rotation=45)\n",
    "plt.show()"
   ]
  },
  {
   "cell_type": "markdown",
   "metadata": {},
   "source": [
    "## General population"
   ]
  },
  {
   "cell_type": "code",
   "execution_count": null,
   "metadata": {
    "ExecuteTime": {
     "end_time": "2024-08-29T17:05:09.671141Z",
     "start_time": "2024-08-29T17:05:09.644565Z"
    }
   },
   "outputs": [],
   "source": [
    "# describe statistics across datasets and splits (number of samples, age range, female-male ratio, mean age and std)\n",
    "stats = general_df.groupby(['dataset', 'split']).agg(\n",
    "    n_samples=('subject_id', 'count'),\n",
    "    mean_age=('age_at_scan', 'mean'),\n",
    "    quartile_1_age=('age_at_scan', lambda x: x.quantile(0.25)),\n",
    "    quartile_2_age=('age_at_scan', lambda x: x.quantile(0.75)),\n",
    "    female_ratio=('gender', lambda x: x.value_counts(normalize=True).get('female', 0)),\n",
    "    bmi=('bmi', 'mean'),\n",
    "    std_bmi=('bmi', 'std'))\n",
    "\n",
    "stats"
   ]
  },
  {
   "cell_type": "markdown",
   "metadata": {},
   "source": [
    "### Plot age"
   ]
  },
  {
   "cell_type": "code",
   "execution_count": null,
   "metadata": {},
   "outputs": [],
   "source": [
    "sns.set_theme()\n",
    "sns.set_style({'axes.grid' : False})\n",
    "sns.histplot(data=general_df, x='age_at_scan', hue='split', multiple='stack', alpha=0.5, legend=True, kde=True)\n",
    "plt.xlabel('Age')\n",
    "plt.ylabel('Count')\n",
    "plt.title('Age distribution in General population')\n",
    "sns.despine()\n",
    "plt.savefig('age_distribution_general.png', dpi=300, transparent=True)\n",
    "plt.show()"
   ]
  },
  {
   "cell_type": "markdown",
   "metadata": {},
   "source": [
    "### Plot sex"
   ]
  },
  {
   "cell_type": "code",
   "execution_count": null,
   "metadata": {},
   "outputs": [],
   "source": [
    "sns.set_theme()\n",
    "# make the figure bigger so that everything fits when it is saved\n",
    "plt.figure(figsize=(3, 5))\n",
    "sns.set_style({'axes.grid' : False})\n",
    "sns.histplot(data=general_df, x='gender', hue='split', multiple='stack', alpha=0.5, legend=True, shrink=.7)\n",
    "sns.move_legend(plt.gca(), \"center right\", bbox_to_anchor=(1.1, 0.5), bbox_transform=plt.gcf().transFigure)\n",
    "plt.xlabel('Sex')\n",
    "plt.ylabel('Count')\n",
    "plt.title('Sex distribution in all datasets')\n",
    "sns.despine()\n",
    "plt.tight_layout()\n",
    "plt.savefig('sex_distribution_general.png', dpi=300, transparent=True)\n",
    "plt.show()"
   ]
  },
  {
   "cell_type": "markdown",
   "metadata": {},
   "source": [
    "### Plot BMI"
   ]
  },
  {
   "cell_type": "code",
   "execution_count": null,
   "metadata": {},
   "outputs": [],
   "source": [
    "without_nas_in_bmi = general_df.dropna(subset=['bmi'])\n",
    "sns.set_theme(rc={'figure.figsize':(6, 4.8)})\n",
    "sns.histplot(data=without_nas_in_bmi, x='bmi', hue='split', multiple='stack', alpha=0.5, legend=True, kde=True)\n",
    "plt.xlabel('BMI')\n",
    "plt.ylabel('Count')\n",
    "plt.title('BMI distribution in all datasets')\n",
    "plt.show()"
   ]
  },
  {
   "cell_type": "markdown",
   "metadata": {},
   "source": [
    "## Diseased"
   ]
  },
  {
   "cell_type": "code",
   "execution_count": null,
   "metadata": {},
   "outputs": [],
   "source": [
    "stats = diseased_df.groupby(['dataset']).agg(\n",
    "    n_samples=('subject_id', 'count'),\n",
    "    min_age=('age_at_scan', 'min'),\n",
    "    max_age=('age_at_scan', 'max'),\n",
    "    mean_age=('age_at_scan', 'mean'),\n",
    "    std_age=('age_at_scan', 'std'),\n",
    "    females=('gender', lambda x: (x == 'female').sum()),\n",
    "    female_ratio=('gender', lambda x: x.value_counts(normalize=True).get('female', 0)),)\n",
    "\n",
    "stats"
   ]
  },
  {
   "cell_type": "code",
   "execution_count": null,
   "metadata": {},
   "outputs": [],
   "source": [
    "plt.figure(figsize=(7, 5))\n",
    "sns.set_theme()\n",
    "sns.set_style({'axes.grid' : False})\n",
    "sns.histplot(data=diseased_df, x='age_at_scan', hue='diagnosis', multiple='stack', alpha=0.5, legend=True, kde=True)\n",
    "plt.xlabel('Age')\n",
    "plt.ylabel('Count')\n",
    "plt.title('Age distribution in Diseased population')\n",
    "sns.despine()\n",
    "plt.savefig('age_distribution_diseased.png', dpi=300, transparent=True)\n",
    "plt.show()"
   ]
  },
  {
   "cell_type": "code",
   "execution_count": null,
   "metadata": {},
   "outputs": [],
   "source": [
    "\n",
    "def plot_balanced_distributions(balanced_dvh, balanced_dvp, balanced_hvp):\n",
    "    balanced_dvh['dataset'] = 'AD vs. HC'\n",
    "    balanced_dvp['dataset'] = 'AD vs. MCI'\n",
    "    balanced_hvp['dataset'] = 'MCI vs. HC'\n",
    "\n",
    "    # Capitalize gender values\n",
    "    balanced_dvh['gender'] = balanced_dvh['gender'].str.capitalize()\n",
    "    balanced_dvp['gender'] = balanced_dvp['gender'].str.capitalize()\n",
    "    balanced_hvp['gender'] = balanced_hvp['gender'].str.capitalize()\n",
    "\n",
    "    sns.reset_defaults()\n",
    "    # Set up the figure with two axes: one for violin plots, one for gender bar plots\n",
    "    fig = plt.figure(constrained_layout=True, figsize=(8, 4))\n",
    "    gs = fig.add_gridspec(3, 2, width_ratios=[2, 1], height_ratios=[1, 1, 1])\n",
    "\n",
    "    # Create the main violin plot axis\n",
    "    ax_violin = fig.add_subplot(gs[:, 0])\n",
    "\n",
    "    # Plot each dataset separately to ensure proper split violins\n",
    "    datasets_data = [\n",
    "        (balanced_dvh, 'AD vs. HC', 0),\n",
    "        (balanced_dvp, 'AD vs. MCI', 1), \n",
    "        (balanced_hvp, 'MCI vs. HC', 2)\n",
    "    ]\n",
    "\n",
    "    # Get unique classes for consistent coloring\n",
    "    all_classes = concat([balanced_dvh, balanced_dvp, balanced_hvp])['dx'].unique()\n",
    "    colors = sns.color_palette('deep', n_colors=len(all_classes))\n",
    "    class_color_map = dict(zip(all_classes, colors))\n",
    "\n",
    "    # Plot split violins for each dataset\n",
    "    for data, dataset_name, x_pos in datasets_data:\n",
    "        # Create a temporary dataframe for this dataset only\n",
    "        temp_df = data.copy()\n",
    "        \n",
    "        # Use seaborn's violinplot with split=True for this specific dataset\n",
    "        sns.violinplot(\n",
    "            data=temp_df,\n",
    "            x=[dataset_name] * len(temp_df),  # All rows get the same x value\n",
    "            y='age_at_scan',\n",
    "            hue='dx',\n",
    "            split=True,\n",
    "            inner='quartile',\n",
    "            ax=ax_violin,\n",
    "            palette=[class_color_map[cls] for cls in temp_df['dx'].unique()]\n",
    "        )\n",
    "\n",
    "    # Customize the violin plot\n",
    "    ax_violin.set_title('Age distribution')\n",
    "    ax_violin.set_xlabel('')  # Remove xlabel\n",
    "    ax_violin.set_ylabel('Age')\n",
    "    # Remove grid lines except for axes\n",
    "    ax_violin.grid(False)\n",
    "    ax_violin.set_axisbelow(True)\n",
    "    # Remove top and right spines\n",
    "    ax_violin.spines['top'].set_visible(False)\n",
    "    ax_violin.spines['right'].set_visible(False)\n",
    "\n",
    "    # Remove the default legend from violin plot\n",
    "    ax_violin.get_legend().remove()\n",
    "\n",
    "    # Gender bar plots, stacked vertically, one for each dataset\n",
    "    datasets = ['AD vs. HC', 'AD vs. MCI', 'MCI vs. HC']\n",
    "    datasets_df = [balanced_dvh, balanced_dvp, balanced_hvp]\n",
    "\n",
    "    for i, (ds, df) in enumerate(zip(datasets, datasets_df)):\n",
    "        ax_bar = fig.add_subplot(gs[i, 1])\n",
    "        sns.countplot(\n",
    "            data=df,\n",
    "            y='gender',\n",
    "            hue='dx',\n",
    "            ax=ax_bar,\n",
    "            palette=[class_color_map[cls] for cls in df['dx'].unique()]\n",
    "        )\n",
    "        # Set ylabel to dataset name and remove xlabel\n",
    "        ax_bar.set_ylabel(ds)\n",
    "        ax_bar.set_xlabel('')  # Remove xlabel\n",
    "        # Add title only to the top plot\n",
    "        if i == 0:\n",
    "            ax_bar.set_title('Sex distribution')\n",
    "        # Remove all grid lines\n",
    "        ax_bar.grid(False)\n",
    "        # Remove top and right spines\n",
    "        ax_bar.spines['top'].set_visible(False)\n",
    "        ax_bar.spines['right'].set_visible(False)\n",
    "        # Remove legend from all count plots\n",
    "        ax_bar.get_legend().remove()\n",
    "\n",
    "    # Create custom legend at center bottom with 3 columns\n",
    "    legend_elements = [plt.Rectangle((0,0),1,1, facecolor=class_color_map[cls], alpha=0.7, label=cls) \n",
    "                    for cls in all_classes]\n",
    "    fig.legend(handles=legend_elements, loc='lower center', bbox_to_anchor=(0.5, -0.08), ncol=3)\n",
    "    plt.tight_layout()\n",
    "    plt.show()\n",
    "    return fig"
   ]
  },
  {
   "cell_type": "code",
   "execution_count": null,
   "metadata": {},
   "outputs": [],
   "source": [
    "balanced_dvh = read_csv('balanced_dvh.csv')\n",
    "balanced_dvp = read_csv('balanced_dvp.csv')\n",
    "balanced_hvp = read_csv('balanced_hvp.csv')\n",
    "\n",
    "fig_balanced = plot_balanced_distributions(balanced_dvh, balanced_dvp, balanced_hvp)\n",
    "fig_balanced.savefig('diseased_balanced_distributions.png', bbox_inches='tight', dpi=300, transparent=True)"
   ]
  }
 ],
 "metadata": {
  "kernelspec": {
   "display_name": "Python 3",
   "language": "python",
   "name": "python3"
  },
  "language_info": {
   "codemirror_mode": {
    "name": "ipython",
    "version": 3
   },
   "file_extension": ".py",
   "mimetype": "text/x-python",
   "name": "python",
   "nbconvert_exporter": "python",
   "pygments_lexer": "ipython3",
   "version": "3.12.3"
  }
 },
 "nbformat": 4,
 "nbformat_minor": 2
}
